{
 "cells": [
  {
   "cell_type": "markdown",
   "metadata": {},
   "source": [
    "<img src=\"files/user_study_screenshots/instructions.jpg\">\n",
    "<img src=\"files/user_study_screenshots/examples1.jpg\">\n",
    "<img src=\"files/user_study_screenshots/examples2.jpg\">\n",
    "<img src=\"files/user_study_screenshots/examples3.jpg\">\n",
    "<img src=\"files/user_study_screenshots/desclimers.jpg\">\n",
    "<img src=\"files/user_study_screenshots/bee1.jpg\">\n",
    "<img src=\"files/user_study_screenshots/bee2.jpg\">\n",
    "<img src=\"files/user_study_screenshots/bee3.jpg\">\n",
    "<img src=\"files/user_study_screenshots/bee4.jpg\">\n",
    "<img src=\"files/user_study_screenshots/crab1.jpg\">\n",
    "<img src=\"files/user_study_screenshots/crab2.jpg\">\n",
    "<img src=\"files/user_study_screenshots/crab3.jpg\">\n",
    "<img src=\"files/user_study_screenshots/crab4.jpg\">\n",
    "<img src=\"files/user_study_screenshots/sea_lion1.jpg\">\n",
    "<img src=\"files/user_study_screenshots/sea_lion2.jpg\">\n",
    "<img src=\"files/user_study_screenshots/sea_lion3.jpg\">\n",
    "<img src=\"files/user_study_screenshots/sea_lion4.jpg\">"
   ]
  }
 ],
 "metadata": {
  "kernelspec": {
   "display_name": "Python 3",
   "language": "python",
   "name": "python3"
  },
  "language_info": {
   "codemirror_mode": {
    "name": "ipython",
    "version": 3
   },
   "file_extension": ".py",
   "mimetype": "text/x-python",
   "name": "python",
   "nbconvert_exporter": "python",
   "pygments_lexer": "ipython3",
   "version": "3.6.3"
  }
 },
 "nbformat": 4,
 "nbformat_minor": 2
}
